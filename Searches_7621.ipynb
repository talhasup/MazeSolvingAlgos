{
  "nbformat": 4,
  "nbformat_minor": 0,
  "metadata": {
    "colab": {
      "provenance": []
    },
    "kernelspec": {
      "name": "python3",
      "display_name": "Python 3"
    },
    "language_info": {
      "name": "python"
    }
  },
  "cells": [
    {
      "cell_type": "markdown",
      "source": [
        "Muhammad Talha\n",
        "\n",
        "MS-AI\n",
        "\n",
        "Enrollment: 24I-7621\n",
        "\n",
        "Adv AI Assignment-01 (Searches)"
      ],
      "metadata": {
        "id": "rqFzTM_SvVgw"
      }
    },
    {
      "cell_type": "markdown",
      "source": [
        "Maze Generation"
      ],
      "metadata": {
        "id": "Md0OYRKPNamy"
      }
    },
    {
      "cell_type": "code",
      "execution_count": 130,
      "metadata": {
        "id": "e3puydZBLdy5"
      },
      "outputs": [],
      "source": [
        "import numpy as np\n",
        "import random\n",
        "from collections import deque\n",
        "import matplotlib.pyplot as plt\n",
        "\n",
        "def generate_maze(size):\n",
        "    maze = np.zeros((size, size), dtype=int)\n",
        "    obstacle_count = int(size * size * 0.3)\n",
        "\n",
        "    while obstacle_count > 0:\n",
        "        x, y = np.random.randint(0, size), np.random.randint(0, size)\n",
        "        if maze[x][y] == 0:\n",
        "            maze[x][y] = 1\n",
        "            obstacle_count -= 1\n",
        "\n",
        "    #start and goal positions\n",
        "    start = (np.random.randint(0, size), np.random.randint(0, size))\n",
        "    goal = (np.random.randint(0, size), np.random.randint(0, size))\n",
        "\n",
        "    maze[start[0], start[1]] = 0\n",
        "    maze[goal[0], goal[1]] = 0\n",
        "\n",
        "  #start and goal are apart\n",
        "    while np.abs(start[0] - goal[0]) + np.abs(start[1] - goal[1]) < 15:\n",
        "        goal = (np.random.randint(0, size), np.random.randint(0, size))\n",
        "\n",
        "    return maze, start, goal"
      ]
    },
    {
      "cell_type": "markdown",
      "source": [
        "Addition of obstacle"
      ],
      "metadata": {
        "id": "fg4EDfa3N4Tq"
      }
    },
    {
      "cell_type": "code",
      "source": [
        "#Add a New Obstacle after 10 Moves\n",
        "def add_obstacle(maze):\n",
        "    empty_cells = [(i, j) for i in range(maze.shape[0]) for j in range(maze.shape[1]) if maze[i][j] == 0]\n",
        "    if empty_cells:\n",
        "        x, y = random.choice(empty_cells)\n",
        "        maze[x][y] = 1\n",
        "\n"
      ],
      "metadata": {
        "id": "3Iv0TxJULkYe"
      },
      "execution_count": 131,
      "outputs": []
    },
    {
      "cell_type": "markdown",
      "source": [
        "movement of obstacle"
      ],
      "metadata": {
        "id": "JmS3_JuIN7mX"
      }
    },
    {
      "cell_type": "code",
      "source": [
        "#move obstacle after 15 Moves\n",
        "def move_obstacle(maze):\n",
        "    obstacles = [(i, j) for i in range(maze.shape[0]) for j in range(maze.shape[1]) if maze[i][j] == 1]\n",
        "    if obstacles:\n",
        "        x, y = random.choice(obstacles)\n",
        "        # possible direction(up, down, left, right)\n",
        "        directions = [(-1, 0), (1, 0), (0, -1), (0, 1)]\n",
        "        random.shuffle(directions)\n",
        "        for dx, dy in directions:\n",
        "            new_x, new_y = x + dx, y + dy\n",
        "            if (0 <= new_x < maze.shape[0]) and (0 <= new_y < maze.shape[1]) and maze[new_x][new_y] == 0:\n",
        "                maze[x][y] = 0\n",
        "                maze[new_x][new_y] = 1\n",
        "                break"
      ],
      "metadata": {
        "id": "urcu5ERELzVr"
      },
      "execution_count": 132,
      "outputs": []
    },
    {
      "cell_type": "markdown",
      "source": [
        "BFS"
      ],
      "metadata": {
        "id": "z6m4FVFFOa2k"
      }
    },
    {
      "cell_type": "code",
      "source": [
        "def bfs(maze, start, goal):\n",
        "    directions = [(-1, 0), (1, 0), (0, -1), (0, 1)]\n",
        "    queue = deque([start])\n",
        "    visited = set([start])\n",
        "    parent = {start: None}\n",
        "    move_count = 0\n",
        "\n",
        "    while queue:\n",
        "        current = queue.popleft()\n",
        "        move_count += 1\n",
        "\n",
        "        if current == goal:\n",
        "            path = []\n",
        "            while current is not None:\n",
        "                path.append(current)\n",
        "                current = parent[current]\n",
        "            return path[::-1]\n",
        "\n",
        "\n",
        "        if move_count % 10 == 0:\n",
        "            add_obstacle(maze)\n",
        "\n",
        "        if move_count % 15 == 0:\n",
        "            move_obstacle(maze)\n",
        "\n",
        "        for direction in directions:\n",
        "            neighbor = (current[0] + direction[0], current[1] + direction[1])\n",
        "            #Conditions for neighbor, if pass all check it will be enque and will be mark visited\n",
        "            if (0 <= neighbor[0] < maze.shape[0] and #to check that neighbor lies within the boundary of maze\n",
        "                0 <= neighbor[1] < maze.shape[1] and\n",
        "                maze[neighbor[0], neighbor[1]] == 0 and #neighbor is not an obstacle\n",
        "                neighbor not in visited):\n",
        "\n",
        "                queue.append(neighbor)\n",
        "                visited.add(neighbor)\n",
        "                parent[neighbor] = current\n",
        "\n",
        "    return []"
      ],
      "metadata": {
        "id": "zEPIkAx4L2DW"
      },
      "execution_count": 133,
      "outputs": []
    },
    {
      "cell_type": "markdown",
      "source": [
        "DFS"
      ],
      "metadata": {
        "id": "MIkZfvyEPExd"
      }
    },
    {
      "cell_type": "code",
      "source": [
        "def dfs(maze, start, goal):\n",
        "    directions = [(-1, 0), (1, 0), (0, -1), (0, 1)]\n",
        "    stack = [start]\n",
        "    visited = set([start])\n",
        "    parent = {start: None}\n",
        "    move_count = 0\n",
        "\n",
        "    while stack:\n",
        "        current = stack.pop()\n",
        "        move_count += 1\n",
        "\n",
        "\n",
        "        if current == goal:\n",
        "            path = []\n",
        "            while current is not None: #Back to start from goal node and start node has no parent none\n",
        "                path.append(current)\n",
        "                current = parent[current]\n",
        "            return path[::-1]\n",
        "#add new obstacle after 10 moves\n",
        "        if move_count % 10 == 0:\n",
        "            add_obstacle(maze)\n",
        "\n",
        "        if move_count % 15 == 0:\n",
        "            move_obstacle(maze)\n",
        "\n",
        "        for direction in directions:\n",
        "            neighbor = (current[0] + direction[0], current[1] + direction[1])\n",
        "\n",
        "            if (0 <= neighbor[0] < maze.shape[0] and\n",
        "                0 <= neighbor[1] < maze.shape[1] and\n",
        "                maze[neighbor[0], neighbor[1]] == 0 and\n",
        "                neighbor not in visited):\n",
        "\n",
        "                stack.append(neighbor)\n",
        "                visited.add(neighbor)\n",
        "                parent[neighbor] = current\n",
        "\n",
        "    return []"
      ],
      "metadata": {
        "id": "a5ADLPonL_zK"
      },
      "execution_count": 134,
      "outputs": []
    },
    {
      "cell_type": "markdown",
      "source": [
        "UCS (Uniform cost)"
      ],
      "metadata": {
        "id": "Nwex52J2xjHY"
      }
    },
    {
      "cell_type": "code",
      "source": [
        "import heapq\n",
        "def ucs(maze, start, goal):\n",
        "    directions = [(-1, 0), (1, 0), (0, -1), (0, 1)]\n",
        "    # Priority queue to explore nodes by cost\n",
        "    pq = []\n",
        "    heapq.heappush(pq, (0, start))  # (cost, node)\n",
        "    visited = set([start])\n",
        "    parent = {start: None}\n",
        "    move_count = 0\n",
        "\n",
        "    while pq:\n",
        "        current_cost, current = heapq.heappop(pq)\n",
        "        move_count += 1\n",
        "\n",
        "        if current == goal:\n",
        "            path = []\n",
        "            while current is not None:\n",
        "                path.append(current)\n",
        "                current = parent[current]\n",
        "            return path[::-1]\n",
        "\n",
        "\n",
        "        if move_count % 10 == 0:\n",
        "            add_obstacle(maze)\n",
        "        if move_count % 15 == 0:\n",
        "            move_obstacle(maze)\n",
        "\n",
        "\n",
        "        for direction in directions:\n",
        "            neighbor = (current[0] + direction[0], current[1] + direction[1])\n",
        "            if (0 <= neighbor[0] < maze.shape[0] and\n",
        "                0 <= neighbor[1] < maze.shape[1] and\n",
        "                maze[neighbor[0], neighbor[1]] == 0 and\n",
        "                neighbor not in visited):\n",
        "\n",
        "                # Cost per move is always 1 in UCS, so total cost is current_cost + 1\n",
        "                total_cost = current_cost + 1\n",
        "                heapq.heappush(pq, (total_cost, neighbor))\n",
        "                visited.add(neighbor)\n",
        "                parent[neighbor] = current\n",
        "\n",
        "    return []\n"
      ],
      "metadata": {
        "id": "j7A14QAbiPOt"
      },
      "execution_count": 135,
      "outputs": []
    },
    {
      "cell_type": "markdown",
      "source": [
        "DLS"
      ],
      "metadata": {
        "id": "q6BI86zUxxhu"
      }
    },
    {
      "cell_type": "code",
      "source": [
        "def dls(maze, start, goal, depth_limit):\n",
        "    directions = [(-1, 0), (1, 0), (0, -1), (0, 1)]\n",
        "    stack = [(start, 0)]  # Stack to store (node, current_depth)\n",
        "    visited = set([start])\n",
        "    parent = {start: None}\n",
        "    move_count = 0\n",
        "\n",
        "    while stack:\n",
        "        current, depth = stack.pop()\n",
        "        move_count += 1\n",
        "\n",
        "        # If goal is reached, reconstruct the path\n",
        "        if current == goal:\n",
        "            path = []\n",
        "            while current is not None:\n",
        "                path.append(current)\n",
        "                current = parent[current]\n",
        "            return path[::-1]\n",
        "\n",
        "        # Check if the depth limit is reached, if so, backtrack\n",
        "        if depth >= depth_limit:\n",
        "            continue  # Backtrack and explore another path\n",
        "\n",
        "\n",
        "        if move_count % 10 == 0:\n",
        "            add_obstacle(maze)\n",
        "        if move_count % 15 == 0:\n",
        "            move_obstacle(maze)\n",
        "\n",
        "\n",
        "        for direction in directions:\n",
        "            neighbor = (current[0] + direction[0], current[1] + direction[1])\n",
        "            if (0 <= neighbor[0] < maze.shape[0] and\n",
        "                0 <= neighbor[1] < maze.shape[1] and\n",
        "                maze[neighbor[0], neighbor[1]] == 0 and\n",
        "                neighbor not in visited):\n",
        "\n",
        "                stack.append((neighbor, depth + 1))  # Increase depth\n",
        "                visited.add(neighbor)\n",
        "                parent[neighbor] = current\n",
        "\n",
        "    return []"
      ],
      "metadata": {
        "id": "jsq3LWEzkiIS"
      },
      "execution_count": 136,
      "outputs": []
    },
    {
      "cell_type": "markdown",
      "source": [
        "IDS (IDS is same as DLS so here we will call the existing DLS)"
      ],
      "metadata": {
        "id": "mfZwBoo3x_QF"
      }
    },
    {
      "cell_type": "code",
      "source": [
        "def ids(maze, start, goal, max_depth):\n",
        "    # Incrementally increase depth limit from 0 to max_depth\n",
        "    for depth_limit in range(max_depth + 1):\n",
        "        print(f\"Trying depth limit {depth_limit}...\")\n",
        "        path = dls(maze, start, goal, depth_limit)  # Call the existing DLS function\n",
        "        if path:\n",
        "            return path\n",
        "\n",
        "    return []"
      ],
      "metadata": {
        "id": "lnppHTNKnOV7"
      },
      "execution_count": 137,
      "outputs": []
    },
    {
      "cell_type": "markdown",
      "source": [
        "Greedy best first search(GBFS)"
      ],
      "metadata": {
        "id": "3vXUpSbS6Ugi"
      }
    },
    {
      "cell_type": "code",
      "source": [
        "import heapq\n",
        "\n",
        "# Heuristic function to calculate Manhattan distance between two points\n",
        "def manhattan_distance(a, b):\n",
        "    return abs(a[0] - b[0]) + abs(a[1] - b[1])\n",
        "\n",
        "def gbfs(maze, start, goal):\n",
        "    directions = [(-1, 0), (1, 0), (0, -1), (0, 1)]\n",
        "    pq = []  # Priority queue to explore nodes based on heuristic value\n",
        "    heapq.heappush(pq, (manhattan_distance(start, goal), start))  # (heuristic, node)\n",
        "    visited = set([start])\n",
        "    parent = {start: None}\n",
        "    move_count = 0\n",
        "\n",
        "    while pq:\n",
        "        current_priority, current = heapq.heappop(pq)\n",
        "        move_count += 1\n",
        "\n",
        "        if current == goal:\n",
        "            path = []\n",
        "            while current is not None:\n",
        "                path.append(current)\n",
        "                current = parent[current]\n",
        "            return path[::-1]\n",
        "\n",
        "        if move_count % 10 == 0:\n",
        "            add_obstacle(maze)\n",
        "        if move_count % 15 == 0:\n",
        "            move_obstacle(maze)\n",
        "\n",
        "            for direction in directions:\n",
        "              neighbor = (current[0] + direction[0], current[1] + direction[1])\n",
        "            if (0 <= neighbor[0] < maze.shape[0] and\n",
        "                0 <= neighbor[1] < maze.shape[1] and\n",
        "                maze[neighbor[0], neighbor[1]] == 0 and\n",
        "                neighbor not in visited):\n",
        "\n",
        "                # Calculate Manhattan distance (heuristic)\n",
        "                heuristic = manhattan_distance(neighbor, goal)\n",
        "                heapq.heappush(pq, (heuristic, neighbor))\n",
        "                visited.add(neighbor)\n",
        "                parent[neighbor] = current\n",
        "\n",
        "    return []\n"
      ],
      "metadata": {
        "id": "1GHug5r8oxbe"
      },
      "execution_count": 138,
      "outputs": []
    },
    {
      "cell_type": "markdown",
      "source": [
        "A*"
      ],
      "metadata": {
        "id": "WToHdjBN6a2s"
      }
    },
    {
      "cell_type": "code",
      "source": [
        "import heapq\n",
        "\n",
        "# Heuristic function: Manhattan distance\n",
        "def manhattan_distance(a, b):\n",
        "    return abs(a[0] - b[0]) + abs(a[1] - b[1])\n",
        "\n",
        "def a_star(maze, start, goal):\n",
        "    directions = [(-1, 0), (1, 0), (0, -1), (0, 1)]\n",
        "    pq = []  # Priority queue (min-heap)\n",
        "\n",
        "    # Each element in the priority queue is a tuple: (total_cost, g(n), node)\n",
        "    heapq.heappush(pq, (manhattan_distance(start, goal), 0, start))  # (f(n), g(n), node)\n",
        "\n",
        "    visited = set()\n",
        "    parent = {start: None}\n",
        "    g_score = {start: 0}  # g(n) is the cost to reach each node from the start\n",
        "    move_count = 0\n",
        "\n",
        "    while pq:\n",
        "        _, current_g, current = heapq.heappop(pq)\n",
        "        move_count += 1\n",
        "\n",
        "        if current == goal:\n",
        "            path = []\n",
        "            while current is not None:\n",
        "                path.append(current)\n",
        "                current = parent[current]\n",
        "            return path[::-1]\n",
        "\n",
        "        # Mark node as visited\n",
        "        visited.add(current)\n",
        "\n",
        "\n",
        "        if move_count % 10 == 0:\n",
        "            add_obstacle(maze)\n",
        "        if move_count % 15 == 0:\n",
        "            move_obstacle(maze)\n",
        "\n",
        "        for direction in directions:\n",
        "            neighbor = (current[0] + direction[0], current[1] + direction[1])\n",
        "\n",
        "            if (0 <= neighbor[0] < maze.shape[0] and\n",
        "                0 <= neighbor[1] < maze.shape[1] and\n",
        "                maze[neighbor[0], neighbor[1]] == 0):\n",
        "\n",
        "                # Calculate g(n) for the neighbor (cost to reach this neighbor)\n",
        "                tentative_g_score = current_g + 1  # Cost is uniform, so add 1\n",
        "\n",
        "                # If neighbor has not been visited or find  a lower cost path to neighbor\n",
        "                if neighbor not in g_score or tentative_g_score < g_score[neighbor]:\n",
        "                    parent[neighbor] = current\n",
        "                    g_score[neighbor] = tentative_g_score\n",
        "                    # Calculate f(n) = g(n) + h(n)\n",
        "                    f_score = tentative_g_score + manhattan_distance(neighbor, goal)\n",
        "                    heapq.heappush(pq, (f_score, tentative_g_score, neighbor))\n",
        "\n",
        "    return []\n"
      ],
      "metadata": {
        "id": "gJkthrFGpR8E"
      },
      "execution_count": 139,
      "outputs": []
    },
    {
      "cell_type": "markdown",
      "source": [
        "Visulization"
      ],
      "metadata": {
        "id": "Dq_MUeVuP3CB"
      }
    },
    {
      "cell_type": "code",
      "source": [
        "\n",
        "def visualize_maze_with_path(maze, start, goal, path, title):\n",
        "    size = maze.shape[0]\n",
        "    colored_maze = np.copy(maze)\n",
        "    colored_maze[start] = 2\n",
        "    colored_maze[goal] = 3\n",
        "\n",
        "    # Mark the path in the maze (use value 4 for the path cells)\n",
        "    for step in path:\n",
        "        if step != start and step != goal:\n",
        "            colored_maze[step] = 4\n",
        "\n",
        "    cmap = plt.cm.colors.ListedColormap(['white', 'black', 'green', 'red', 'blue'])\n",
        "    plt.imshow(colored_maze, cmap=cmap)\n",
        "\n",
        "    plt.grid(True, color='gray')\n",
        "    plt.xticks(np.arange(-.5, size, 1), [])\n",
        "    plt.yticks(np.arange(-.5, size, 1), [])\n",
        "    plt.gca().set_xticks(np.arange(-.5, size, 1), minor=True)\n",
        "    plt.gca().set_yticks(np.arange(-.5, size, 1), minor=True)\n",
        "    plt.gca().grid(which=\"minor\", color=\"gray\", linestyle='-', linewidth=2)\n",
        "\n",
        "    plt.title(title)\n",
        "    plt.show()\n"
      ],
      "metadata": {
        "id": "U0ofxpfiMJou"
      },
      "execution_count": 140,
      "outputs": []
    },
    {
      "cell_type": "code",
      "source": [
        "size = 40\n",
        "maze, start, goal = generate_maze(size)\n",
        "\n",
        "bfs_path = bfs(maze, start, goal)\n",
        "dfs_path = dfs(maze, start, goal)\n",
        "ucs_path = ucs(maze, start, goal)\n",
        "dls_path = dls(maze, start, goal,depth_limit=2)\n",
        "ids_path = ids(maze, start, goal,max_depth=2)\n",
        "gbfs_path = gbfs(maze, start, goal)\n",
        "a_star_path = a_star(maze, start, goal)\n",
        "if bfs_path:\n",
        "    print(f\"Path found in BFS: {bfs_path}\")\n",
        "    visualize_maze_with_path(maze, start, goal, bfs_path, \"BFS Path\")\n",
        "else:\n",
        "    print(\"No path found in BFS.\")\n",
        "\n",
        "if dfs_path:\n",
        "    print(f\"Path found in DFS: {dfs_path}\")\n",
        "    visualize_maze_with_path(maze, start, goal, dfs_path, \"DFS Path\")\n",
        "else:\n",
        "    print(\"No path found in DFS.\")\n",
        "if ucs_path:\n",
        "    print(f\"Path found in UCS: {ucs_path}\")\n",
        "    visualize_maze_with_path(maze, start, goal, bfs_path, \"UCS Path\")\n",
        "else:\n",
        "    print(\"No path found in UCS.\")\n",
        "if dls_path:\n",
        "    print(f\"Path found in BFS: {dls_path}\")\n",
        "    visualize_maze_with_path(maze, start, goal, bfs_path, \"DLS Path\")\n",
        "else:\n",
        "    print(\"No path found in DLS.\")\n",
        "if ids_path:\n",
        "    print(f\"Path found in BFS: {ids_path}\")\n",
        "    visualize_maze_with_path(maze, start, goal, bfs_path, \"IDS Path\")\n",
        "else:\n",
        "    print(\"No path found in IDS.\")\n",
        "if gbfs_path:\n",
        "    print(f\"Path found in BFS: {gbfs_path}\")\n",
        "    visualize_maze_with_path(maze, start, goal, bfs_path, \"GBFS Path\")\n",
        "else:\n",
        "    print(\"No path found in GBFS.\")\n",
        "if a_star_path:\n",
        "    print(f\"Path found in BFS: {a_star_path}\")\n",
        "    visualize_maze_with_path(maze, start, goal, bfs_path, \"A* Path\")\n",
        "else:\n",
        "    print(\"No path found in A*.\")"
      ],
      "metadata": {
        "colab": {
          "base_uri": "https://localhost:8080/",
          "height": 627
        },
        "id": "-oeN9eCVMPRE",
        "outputId": "dcf9650b-97f9-419a-b5b8-c478a5dfe29a"
      },
      "execution_count": 141,
      "outputs": [
        {
          "output_type": "stream",
          "name": "stdout",
          "text": [
            "Trying depth limit 0...\n",
            "Trying depth limit 1...\n",
            "Trying depth limit 2...\n",
            "Path found in BFS: [(36, 30), (36, 31), (35, 31), (35, 32), (34, 32), (33, 32), (32, 32), (31, 32), (30, 32), (29, 32), (29, 31), (28, 31), (27, 31), (27, 32), (26, 32), (25, 32), (25, 31), (24, 31), (23, 31), (22, 31), (22, 30), (22, 29), (21, 29), (21, 28), (21, 27), (20, 27), (19, 27), (19, 26), (18, 26), (17, 26), (17, 25), (16, 25), (16, 24), (16, 23), (16, 22), (16, 21), (16, 20), (15, 20), (14, 20), (14, 19), (14, 18), (14, 17), (15, 17), (15, 16), (15, 15), (15, 14), (15, 13), (15, 12), (16, 12), (16, 11), (16, 10), (16, 9), (15, 9), (15, 8), (15, 7), (15, 6), (15, 5), (15, 4), (14, 4), (13, 4), (12, 4), (12, 3), (12, 2), (11, 2), (11, 1)]\n"
          ]
        },
        {
          "output_type": "display_data",
          "data": {
            "text/plain": [
              "<Figure size 640x480 with 1 Axes>"
            ],
            "image/png": "[encoded data removed]"
          },
          "metadata": {}
        },
        {
          "output_type": "stream",
          "name": "stdout",
          "text": [
            "No path found in DFS.\n",
            "No path found in UCS.\n",
            "No path found in DLS.\n",
            "No path found in IDS.\n",
            "No path found in GBFS.\n",
            "No path found in A*.\n"
          ]
        }
      ]
    }
  ]
}